{
 "cells": [
  {
   "cell_type": "markdown",
   "metadata": {},
   "source": [
    "# Corotation"
   ]
  },
  {
   "cell_type": "markdown",
   "metadata": {},
   "source": [
    "### Github: https://github.com/arturcp\n",
    "### Repo: https://github.com/arturcp/corotation-notebook "
   ]
  },
  {
   "cell_type": "markdown",
   "metadata": {},
   "source": [
    "Corotation is the rotation in conjunction with another body. In our case, it is the rotation of the stars with the arms of the Milky Way galaxy."
   ]
  },
  {
   "cell_type": "markdown",
   "metadata": {},
   "source": [
    "## Let's start"
   ]
  },
  {
   "cell_type": "markdown",
   "metadata": {},
   "source": [
    "First of all, we have to tell Jupyter Notebook to render our graphs. In order to do that, we use one of what is known as _magic functions_\n",
    "\n",
    "From the docs:\n",
    "\n",
    "`%matplotlib inline` sets the backend of matplotlib to the 'inline' backend.\n",
    "\n",
    "With this backend, the output of plotting commands is displayed inline within frontends like the Jupyter notebook, directly below the code cell that produced it. The resulting plots will then also be stored in the notebook document.\n",
    "\n",
    "So, here we go:"
   ]
  },
  {
   "cell_type": "code",
   "execution_count": null,
   "metadata": {},
   "outputs": [],
   "source": [
    "%matplotlib inline"
   ]
  },
  {
   "cell_type": "markdown",
   "metadata": {},
   "source": [
    "The next step is to import the libraries we are going to use. Here is the list:"
   ]
  },
  {
   "cell_type": "markdown",
   "metadata": {},
   "source": [
    "### matplotlib"
   ]
  },
  {
   "cell_type": "markdown",
   "metadata": {},
   "source": [
    "Matplotlib is a Python 2D plotting library which produces publication quality figures in a variety of hardcopy formats and interactive environments across platforms.\n",
    "\n",
    "From it, we imported:\n",
    "   \n",
    "  * pyplot: matplotlib.pyplot is a state-based interface to matplotlib. It provides a MATLAB-like way of plotting. pyplot is mainly intended for interactive plots and simple cases of programmatic plot generation\n",
    "\n",
    "  * animation: The easiest way to make a live animation in matplotlib is to use one of the Animation classes."
   ]
  },
  {
   "cell_type": "markdown",
   "metadata": {},
   "source": [
    "### scipy"
   ]
  },
  {
   "cell_type": "markdown",
   "metadata": {},
   "source": [
    "SciPy (pronounced “Sigh Pie”) is a Python-based ecosystem of open-source software for mathematics, science, and engineering.\n",
    "\n",
    "From it, we imported the ndimage. This package contains various functions for multi-dimensional image processing\n"
   ]
  },
  {
   "cell_type": "markdown",
   "metadata": {},
   "source": [
    "### imageio"
   ]
  },
  {
   "cell_type": "markdown",
   "metadata": {},
   "source": [
    "Imageio is a Python library that provides an easy interface to read and write a wide range of image data, including animated images, volumetric data, and scientific formats.\n"
   ]
  },
  {
   "cell_type": "code",
   "execution_count": null,
   "metadata": {},
   "outputs": [],
   "source": [
    "import matplotlib.pyplot as plt\n",
    "import matplotlib.animation as animation\n",
    "\n",
    "from scipy import ndimage\n",
    "import \n",
    "import imageio"
   ]
  },
  {
   "cell_type": "markdown",
   "metadata": {},
   "source": [
    "## The Circle"
   ]
  },
  {
   "cell_type": "markdown",
   "metadata": {},
   "source": [
    "We are using sin and cos to make a circular orbit in the code. You will see we used, for example, `y = 10 + 8 * cos(angle)`. Why? We are starting at 10 and making the radius times the result of cos, thus forcing a circular path of radius 8. Confusing? An image is worth a thousand words:"
   ]
  },
  {
   "cell_type": "markdown",
   "metadata": {},
   "source": [
    "![Sin and Cos](sin-cos.gif)"
   ]
  },
  {
   "cell_type": "markdown",
   "metadata": {},
   "source": [
    "## The Code"
   ]
  },
  {
   "cell_type": "code",
   "execution_count": null,
   "metadata": {},
   "outputs": [],
   "source": [
    "# Import the background image - the galaxy and its arms.\n",
    "img = imageio.imread('galaxy-white.png')\n",
    "\n",
    "# Create a figure that will hold the images and configure its inches and dpis.\n",
    "fig = plt.figure()\n",
    "fig.set_dpi(100)\n",
    "fig.set_size_inches(7, 6.5)\n",
    "\n",
    "# Set the x and y axes with 20 points each\n",
    "ax = plt.axes(xlim=(0, 20), ylim=(0, 20))\n",
    "\n",
    "# We are going to draw three circles. Each one will move with a different speed to \n",
    "# show how they move in comparison with the arms of the galaxy.\n",
    "#\n",
    "# The params of the Circle are xy (initial position), radius and extra arguments \n",
    "# (we used it to change the color).\n",
    "first_star = plt.Circle((5, -5), 0.35, fc='blue')\n",
    "second_star = plt.Circle((5, -5), 0.35, fc='red')\n",
    "third_star = plt.Circle((5, -5), 0.35, fc='darkmagenta')\n",
    "\n",
    "# The init method will be called at the begining of the animation. It adds the stars to \n",
    "# the axes.\n",
    "def init():\n",
    "    ax.add_patch(first_star)\n",
    "    ax.add_patch(second_star)\n",
    "    ax.add_patch(third_star)\n",
    "\n",
    "    return first_star, second_star, third_star,\n",
    "\n",
    "# Each step of the animation calls the `animate` method. It changes the position \n",
    "# of the stars one bit at a time, and also rotates the galaxy in the background.\n",
    "#\n",
    "# The `sin` and `cos` functions are used to force the circular rotation of the stars.\n",
    "def animate(i):\n",
    "    # The first star (the blue one) will be the \"outer star\". It will be 8 pixels \n",
    "    # further the (10, 10) center and will move faster.\n",
    "    x = 10 + 8 * np.sin(np.radians(0.5*i))\n",
    "    y = 10 + 8 * np.cos(np.radians(0.5*i))\n",
    "    first_star.center = (x, y)\n",
    "\n",
    "    # The second star (the red one) will be the closest to the center of the galaxy. It \n",
    "    # will be 2.5 pixels further the (10, 10) center and will move slower than the \n",
    "    # others.\n",
    "    x = 10 + 2.5 * np.sin(np.radians(2*i))\n",
    "    y = 10 + 2.5 * np.cos(np.radians(2*i))\n",
    "    second_star.center=(x, y)\n",
    "\n",
    "    # The third star (the dark magenta one) will be the \"middle star\". It will be \n",
    "    # 5 pixels further the (10, 10) center.\n",
    "    x = 10 + 4 * np.sin(np.radians(i))\n",
    "    y = 10 + 4 * np.cos(np.radians(i))\n",
    "    third_star.center=(x, y)\n",
    "\n",
    "    # Finally, let's rotate the galaxy a little bit. We are using the ndimage\n",
    "    # to do it. One important parameter is the `reshape=False`, because, without it,\n",
    "    # the image is resized to fit the area in which it is contained, distorting our\n",
    "    # animation.\n",
    "    rotated_img = ndimage.rotate(img, -i, reshape=False)\n",
    "    plt.imshow(rotated_img, zorder=0, extent=[0.1, 20.0, 0.1, 20.0])\n",
    "    \n",
    "    \n",
    "    return first_star, second_star, third_star\n",
    "\n",
    "# Now, let's simply call the animation passing the necessary parameters.\n",
    "# Get the popcorn and watch the masterpiece.\n",
    "anim = animation.FuncAnimation(fig, animate, \n",
    "                               init_func=init, \n",
    "                               frames=10, \n",
    "                               interval=20,\n",
    "                               blit=True)\n",
    "\n",
    "# For the purpose of this demonstration we don't need the x and y axes, so we disable them.\n",
    "plt.axis('off')\n",
    "\n",
    "# At the end, we save a video in the same folder of this notebook.\n",
    "anim.save('corotation-video.mp4', writer='ffmpeg', fps=30)\n",
    "plt.show()"
   ]
  },
  {
   "cell_type": "code",
   "execution_count": null,
   "metadata": {},
   "outputs": [],
   "source": []
  },
  {
   "cell_type": "code",
   "execution_count": null,
   "metadata": {},
   "outputs": [],
   "source": []
  }
 ],
 "metadata": {
  "kernelspec": {
   "display_name": "Python 3",
   "language": "python",
   "name": "python3"
  },
  "language_info": {
   "codemirror_mode": {
    "name": "ipython",
    "version": 3
   },
   "file_extension": ".py",
   "mimetype": "text/x-python",
   "name": "python",
   "nbconvert_exporter": "python",
   "pygments_lexer": "ipython3",
   "version": "3.7.3"
  }
 },
 "nbformat": 4,
 "nbformat_minor": 2
}
